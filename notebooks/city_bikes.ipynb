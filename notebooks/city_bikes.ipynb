{
 "cells": [
  {
   "attachments": {},
   "cell_type": "markdown",
   "metadata": {},
   "source": [
    "# CityBikes"
   ]
  },
  {
   "attachments": {},
   "cell_type": "markdown",
   "metadata": {},
   "source": [
    "Send a request to CityBikes for the city of your choice. "
   ]
  },
  {
   "cell_type": "code",
   "execution_count": null,
   "metadata": {},
   "outputs": [
    {
     "ename": "",
     "evalue": "",
     "output_type": "error",
     "traceback": [
      "\u001b[1;31mRunning cells with 'd:\\Anaconda\\python.exe' requires the ipykernel package.\n",
      "\u001b[1;31mRun the following command to install 'ipykernel' into the Python environment. \n",
      "\u001b[1;31mCommand: 'conda install -p d:\\Anaconda ipykernel --update-deps --force-reinstall'"
     ]
    }
   ],
   "source": [
    "import os\n",
    "import json\n",
    "import requests\n",
    "from IPython.display import JSON\n",
    "import pandas as pd\n",
    "import numpy as np\n",
    "\n",
    "\n",
    "url = 'http://api.citybik.es/v2/networks'\n",
    "response = requests.get(url)\n",
    "\n",
    "# Get the JSON data from the response\n",
    "data = response.json()\n",
    "\n",
    "networks = data[\"networks\"]\n",
    "\n",
    "# Iterate over each network\n",
    "for network in networks:\n",
    "    # Access the network ID\n",
    "    network_id = network[\"id\"]\n",
    "\n",
    "    network_id = 'avelo-quebec'\n",
    "    network_json = requests.get('http://api.citybik.es/v2/networks/'+network_id).json()\n",
    "    JSON(network_json)\n",
    "\n",
    "df = pd.json_normalize(network_json['network'])"
   ]
  },
  {
   "attachments": {},
   "cell_type": "markdown",
   "metadata": {},
   "source": [
    "Parse through the response to get the details you want for the bike stations in that city (latitude, longitude, number of bikes). "
   ]
  },
  {
   "cell_type": "code",
   "execution_count": null,
   "metadata": {},
   "outputs": [],
   "source": [
    "df = pd.json_normalize(network_json['network'])\n",
    "df['stations'].iloc[0]\n",
    "df_station = pd.DataFrame(df['stations'][0])\n",
    "df_extra = pd.json_normalize(df_station['extra'])\n",
    "df_extra['slots'].value_counts()\n",
    "df_merge = pd.merge(df_station, df_extra, left_index=True, right_index=True, how='outer')\n",
    "column = [\"extra\", 'altitude', 'uid', 'has_ebikes', 'normal_bikes', 'payment', 'payment-terminal', 'returning', 'renting', 'last_updated']\n",
    "df_merge.drop(column, axis = 'columns', inplace=True)"
   ]
  },
  {
   "attachments": {},
   "cell_type": "markdown",
   "metadata": {},
   "source": [
    "Put your parsed results into a DataFrame."
   ]
  },
  {
   "cell_type": "code",
   "execution_count": null,
   "metadata": {},
   "outputs": [],
   "source": [
    "df_merge = pd.merge(df_station, df_extra, left_index=True, right_index=True, how='outer')\n",
    "column = [\"extra\", 'altitude', 'uid', 'has_ebikes', 'normal_bikes', 'payment', 'payment-terminal', 'returning', 'renting', 'last_updated']\n",
    "df_merge.drop(column, axis = 'columns', inplace=True)\n",
    "bike_max = df_merge.sort_values('free_bikes')\n",
    "bike_df = bike_max.head()\n",
    "bike_df.to_csv('Citybikes.csv', index = False)"
   ]
  }
 ],
 "metadata": {
  "kernelspec": {
   "display_name": "Python 3",
   "language": "python",
   "name": "python3"
  },
  "language_info": {
   "codemirror_mode": {
    "name": "ipython",
    "version": 3
   },
   "file_extension": ".py",
   "mimetype": "text/x-python",
   "name": "python",
   "nbconvert_exporter": "python",
   "pygments_lexer": "ipython3",
   "version": "-1.-1.-1"
  }
 },
 "nbformat": 4,
 "nbformat_minor": 4
}
