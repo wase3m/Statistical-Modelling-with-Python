import os
import json
import requests
from IPython.display import JSON
import pandas as pd
import numpy as np


url = 'http://api.citybik.es/v2/networks'
response = requests.get(url)

# Get the JSON data from the response
data = response.json()

networks = data["networks"]

# Iterate over each network
for network in networks:
    # Access the network ID
    network_id = network["id"]

    network_id = 'avelo-quebec'
    network_json = requests.get('http://api.citybik.es/v2/networks/'+network_id).json()
    JSON(network_json)

df = pd.json_normalize(network_json['network'])
