{
 "cells": [
  {
   "attachments": {},
   "cell_type": "markdown",
   "metadata": {},
   "source": [
    "Build a regression model."
   ]
  },
  {
   "cell_type": "code",
   "execution_count": null,
   "metadata": {},
   "outputs": [],
   "source": [
    "import pandas as pd\n",
    "import statsmodels.api as sm\n",
    "\n",
    "# 1. Prepare the Data\n",
    "# Load the dataset\n",
    "data = pd.read_csv('final.csv')\n",
    "\n",
    "# Split into input (X) and output (y) variables\n",
    "X = data[['Average Rating', 'Popularity', 'POI']]\n",
    "y = data['empty_slots']\n",
    "\n",
    "# 2. Perform EDA (optional)\n",
    "# Perform exploratory data analysis if needed\n",
    "\n",
    "# 3. Build the Regression Model\n",
    "# Add constant column to input variables\n",
    "X = sm.add_constant(X)\n",
    "\n",
    "# Fit the OLS model\n",
    "model = sm.OLS(y, X).fit()\n",
    "\n",
    "# Retrieve the model summary\n",
    "print(model.summary())"
   ]
  },
  {
   "attachments": {},
   "cell_type": "markdown",
   "metadata": {},
   "source": [
    "Provide model output and an interpretation of the results. "
   ]
  },
  {
   "cell_type": "code",
   "execution_count": null,
   "metadata": {},
   "outputs": [],
   "source": [
    "                            OLS Regression Results                            \n",
    "==============================================================================\n",
    "Dep. Variable:            empty_slots   R-squared:                       0.154\n",
    "Model:                            OLS   Adj. R-squared:                 -0.693\n",
    "Method:                 Least Squares   F-statistic:                    0.1817\n",
    "Date:                Sun, 04 Jun 2023   Prob (F-statistic):              0.846\n",
    "Time:                        16:29:31   Log-Likelihood:                -8.6935\n",
    "No. Observations:                   5   AIC:                             23.39\n",
    "Df Residuals:                       2   BIC:                             22.22\n",
    "Df Model:                           2                                         \n",
    "Covariance Type:            nonrobust                                         \n",
    "==================================================================================\n",
    "                     coef    std err          t      P>|t|      [0.025      0.975]\n",
    "----------------------------------------------------------------------------------\n",
    "Average Rating    -2.8689      6.427     -0.446      0.699     -30.521      24.783\n",
    "Popularity        -0.0031      0.016     -0.192      0.866      -0.073       0.067\n",
    "POI                1.2887      1.351      0.954      0.441      -4.526       7.103\n",
    "==============================================================================\n",
    "Omnibus:                          nan   Durbin-Watson:                   2.336\n",
    "Prob(Omnibus):                    nan   Jarque-Bera (JB):                0.599\n",
    "Skew:                          -0.124   Prob(JB):                        0.741\n",
    "Kurtosis:                       1.323   Cond. No.                         574.\n",
    "==============================================================================\n",
    "\n",
    "\n",
    "\n"
   ]
  },
  {
   "cell_type": "code",
   "execution_count": null,
   "metadata": {},
   "outputs": [],
   "source": [
    "#Based on the provided output, the regression model does not seem to be a good fit for explaining the relationship between the characteristics of POIs and the number of bikes in a location. The low R-squared and non-significant coefficients indicate that the model does not adequately capture the variation in empty_slots"
   ]
  },
  {
   "attachments": {},
   "cell_type": "markdown",
   "metadata": {},
   "source": [
    "# Stretch"
   ]
  },
  {
   "attachments": {},
   "cell_type": "markdown",
   "metadata": {},
   "source": [
    "How can you turn the regression model into a classification model?"
   ]
  },
  {
   "cell_type": "code",
   "execution_count": null,
   "metadata": {},
   "outputs": [],
   "source": []
  }
 ],
 "metadata": {
  "kernelspec": {
   "display_name": "Python 3",
   "language": "python",
   "name": "python3"
  },
  "language_info": {
   "codemirror_mode": {
    "name": "ipython",
    "version": 3
   },
   "file_extension": ".py",
   "mimetype": "text/x-python",
   "name": "python",
   "nbconvert_exporter": "python",
   "pygments_lexer": "ipython3",
   "version": "3.8.5"
  }
 },
 "nbformat": 4,
 "nbformat_minor": 4
}
