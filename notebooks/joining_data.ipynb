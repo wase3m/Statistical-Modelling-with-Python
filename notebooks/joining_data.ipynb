{
 "cells": [
  {
   "attachments": {},
   "cell_type": "markdown",
   "metadata": {},
   "source": [
    "Join the data from Part 1 with the data from Part 2 to create a new dataframe."
   ]
  },
  {
   "cell_type": "code",
   "execution_count": null,
   "metadata": {},
   "outputs": [],
   "source": [
    "#Aggregating the yelp results for top 5 locations \n",
    "\n",
    "Avg_rating = yelp01['rating'].mean()\n",
    "Popularity = final_df['review_count'].mean()\n",
    "Distance = final_df['distance'].mean()\n",
    "POI = final_df['name'].count()\n",
    "Yelp_agg1 = pd.DataFrame({\n",
    "    'Average Rating': [Avg_rating],\n",
    "    'Popularity': [Popularity],\n",
    "    'POI' : [POI]\n",
    "})\n",
    "\n",
    "yelp2 = pd.read_csv('yelp2.csv')\n",
    "Avg_rating2 = yelp2['rating'].mean()\n",
    "Popularity2 = yelp2['review_count'].mean()\n",
    "POI2 = yelp2['name'].count()\n",
    "\n",
    "Yelp_agg2 = pd.DataFrame({\n",
    "    'Average Rating': [Avg_rating2],\n",
    "    'Popularity': [Popularity2],\n",
    "    'POI' : [POI2]\n",
    "})\n",
    "\n",
    "yelp3 = pd.read_csv('yelp 3.csv')\n",
    "Avg_rating3 = yelp3['rating'].mean()\n",
    "Popularity3 = yelp3['review_count'].mean()\n",
    "POI3 = yelp3['name'].count()\n",
    "\n",
    "Yelp_agg3 = pd.DataFrame({\n",
    "    'Average Rating': [Avg_rating3],\n",
    "    'Popularity': [Popularity3],\n",
    "    'POI' : [POI3]\n",
    "})\n",
    "\n",
    "yelp4 = pd.read_csv('yelp 4.csv')\n",
    "Avg_rating4 = yelp4['rating'].mean()\n",
    "Popularity4 = yelp4['review_count'].mean()\n",
    "POI4 = yelp4['name'].count()\n",
    "\n",
    "Yelp_agg4 = pd.DataFrame({\n",
    "    'Average Rating': [Avg_rating4],\n",
    "    'Popularity': [Popularity4],\n",
    "    'POI' : [POI4]\n",
    "})\n",
    "\n",
    "yelp5 = pd.read_csv('yelp 5.csv')\n",
    "Avg_rating5 = yelp5['rating'].mean()\n",
    "Popularity5 = yelp5['review_count'].mean()\n",
    "POI5 = yelp5['name'].count()\n",
    "\n",
    "Yelp_agg5 = pd.DataFrame({\n",
    "    'Average Rating': [Avg_rating5],\n",
    "    'Popularity': [Popularity5],\n",
    "    'POI' : [POI5]\n",
    "})\n",
    "\n",
    "Yelp_main = pd.concat([Yelp_agg1, Yelp_agg2, Yelp_agg3, Yelp_agg4, Yelp_agg5], axis=0)\n",
    "Yelp_main.reset_index(drop=True, inplace=True)\n",
    "bikes_main = pd.read_csv('Citybikes.csv')\n",
    "complete_df = pd.concat([bikes_main, Yelp_main], axis = 1)"
   ]
  },
  {
   "attachments": {},
   "cell_type": "markdown",
   "metadata": {},
   "source": [
    "Provide a visualization that you used as part of your EDA process. Explain the initial pattern or relationship you discoved through this visualization. "
   ]
  },
  {
   "cell_type": "code",
   "execution_count": null,
   "metadata": {},
   "outputs": [],
   "source": [
    "import matplotlib.pyplot as plt\n",
    "\n",
    "# Extract the 'empty_slots' column from the DataFrame\n",
    "empty_slots = final['empty_slots']\n",
    "\n",
    "# Create a histogram\n",
    "plt.hist(empty_slots, bins=7)\n",
    "\n",
    "# Set labels and title\n",
    "plt.xlabel('Empty Slots')\n",
    "plt.ylabel('Frequency')\n",
    "plt.title('Histogram of Empty Slots')\n",
    "\n",
    "# Display the plot\n",
    "plt.show()"
   ]
  },
  {
   "attachments": {},
   "cell_type": "markdown",
   "metadata": {},
   "source": [
    "# Database"
   ]
  },
  {
   "attachments": {},
   "cell_type": "markdown",
   "metadata": {},
   "source": [
    "Put all your results in an SQLite3 database (remember, SQLite stores its databases as files in your local machine - make sure to create your database in your project's data/ directory!)"
   ]
  },
  {
   "cell_type": "code",
   "execution_count": 1,
   "metadata": {},
   "outputs": [],
   "source": [
    "import sqlite3\n",
    "from sqlite3 import Error\n",
    "\n",
    "def create_connection(path):\n",
    "    connection = None\n",
    "    try:\n",
    "        connection = sqlite3.connect(path)\n",
    "        print(\"Connection to SQLite DB successful\")\n",
    "    except Error as e:\n",
    "        print(f\"The error '{e}' occurred\")\n",
    "\n",
    "    return connection"
   ]
  },
  {
   "cell_type": "code",
   "execution_count": 2,
   "metadata": {},
   "outputs": [
    {
     "name": "stdout",
     "output_type": "stream",
     "text": [
      "Connection to SQLite DB successful\n"
     ]
    }
   ],
   "source": [
    "connection = create_connection(\"sm_app.sqlite\")\n"
   ]
  },
  {
   "cell_type": "code",
   "execution_count": 3,
   "metadata": {},
   "outputs": [
    {
     "name": "stdout",
     "output_type": "stream",
     "text": [
      "Connection to SQLite DB successful\n"
     ]
    }
   ],
   "source": [
    "connection = create_connection(\"sm_app.sqlite\")\n"
   ]
  },
  {
   "cell_type": "code",
   "execution_count": 4,
   "metadata": {},
   "outputs": [],
   "source": [
    "def execute_query(connection, query):\n",
    "    cursor = connection.cursor()\n",
    "    try:\n",
    "        cursor.execute(query)\n",
    "        connection.commit()\n",
    "        print(\"Query executed successfully\")\n",
    "    except Error as e:\n",
    "        print(f\"The error '{e}' occurred\")"
   ]
  },
  {
   "cell_type": "code",
   "execution_count": 7,
   "metadata": {},
   "outputs": [
    {
     "name": "stdout",
     "output_type": "stream",
     "text": [
      "Query executed successfully\n"
     ]
    }
   ],
   "source": [
    "create_table_query = '''CREATE TABLE IF NOT EXISTS Yelp (\n",
    "                         name TEXT,\n",
    "                         is_closed TEXT,\n",
    "                         review_count INTEGER,\n",
    "                         categories TEXT,\n",
    "                         rating INTEGER,\n",
    "                         distance INTEGER,\n",
    "                         address1 TEXT\n",
    "                         );'''\n",
    "execute_query(connection, create_table_query)  \n"
   ]
  },
  {
   "cell_type": "code",
   "execution_count": 17,
   "metadata": {},
   "outputs": [],
   "source": [
    "import pandas as pd\n",
    "df = pd.read_csv('C:\\LHL\\Final-Project-Statistical-Modelling-with-Python/Yelp.csv')\n",
    "\n"
   ]
  },
  {
   "cell_type": "code",
   "execution_count": 23,
   "metadata": {},
   "outputs": [
    {
     "name": "stdout",
     "output_type": "stream",
     "text": [
      "Query executed successfully\n",
      "Query executed successfully\n",
      "Query executed successfully\n",
      "Query executed successfully\n",
      "Query executed successfully\n",
      "Query executed successfully\n",
      "Query executed successfully\n",
      "Query executed successfully\n",
      "Query executed successfully\n",
      "Query executed successfully\n",
      "Query executed successfully\n",
      "Query executed successfully\n",
      "Query executed successfully\n",
      "Query executed successfully\n",
      "Query executed successfully\n",
      "Query executed successfully\n",
      "Query executed successfully\n",
      "Query executed successfully\n",
      "Query executed successfully\n",
      "Query executed successfully\n",
      "Query executed successfully\n",
      "Query executed successfully\n",
      "Query executed successfully\n",
      "Query executed successfully\n",
      "Query executed successfully\n",
      "Query executed successfully\n",
      "Query executed successfully\n",
      "Query executed successfully\n",
      "Query executed successfully\n",
      "Query executed successfully\n",
      "Query executed successfully\n",
      "Query executed successfully\n",
      "Query executed successfully\n",
      "Query executed successfully\n",
      "Query executed successfully\n",
      "Query executed successfully\n",
      "Query executed successfully\n",
      "Query executed successfully\n",
      "Query executed successfully\n",
      "Query executed successfully\n",
      "Query executed successfully\n",
      "Query executed successfully\n",
      "Query executed successfully\n",
      "Query executed successfully\n",
      "Query executed successfully\n",
      "Query executed successfully\n",
      "Query executed successfully\n",
      "Query executed successfully\n",
      "Query executed successfully\n",
      "Query executed successfully\n",
      "Query executed successfully\n",
      "Query executed successfully\n",
      "Query executed successfully\n",
      "Query executed successfully\n",
      "Query executed successfully\n",
      "Query executed successfully\n",
      "Query executed successfully\n",
      "Query executed successfully\n",
      "Query executed successfully\n",
      "Query executed successfully\n",
      "Query executed successfully\n",
      "Query executed successfully\n",
      "Query executed successfully\n",
      "Query executed successfully\n",
      "Query executed successfully\n",
      "Query executed successfully\n",
      "Query executed successfully\n",
      "Query executed successfully\n",
      "Query executed successfully\n",
      "Query executed successfully\n",
      "Query executed successfully\n",
      "Query executed successfully\n",
      "Query executed successfully\n",
      "Query executed successfully\n",
      "Query executed successfully\n",
      "Query executed successfully\n",
      "Query executed successfully\n",
      "Query executed successfully\n",
      "Query executed successfully\n",
      "Query executed successfully\n",
      "Query executed successfully\n",
      "Query executed successfully\n",
      "Query executed successfully\n",
      "Query executed successfully\n",
      "Query executed successfully\n",
      "Query executed successfully\n",
      "Query executed successfully\n",
      "Query executed successfully\n",
      "Query executed successfully\n",
      "Query executed successfully\n",
      "Query executed successfully\n",
      "Query executed successfully\n",
      "Query executed successfully\n",
      "Query executed successfully\n",
      "Query executed successfully\n",
      "Query executed successfully\n",
      "Query executed successfully\n",
      "Query executed successfully\n",
      "Query executed successfully\n",
      "Query executed successfully\n"
     ]
    }
   ],
   "source": [
    "def execute_query(connection, query, values):\n",
    "    cursor = connection.cursor()\n",
    "    try:\n",
    "        cursor.execute(query, values)\n",
    "        connection.commit()\n",
    "        print(\"Query executed successfully\")\n",
    "    except Exception as e:\n",
    "        print(f\"Error executing query: {e}\")\n",
    "\n",
    "for _, row in df.iterrows():\n",
    "    insert_query = '''INSERT INTO Yelp (name, is_closed, review_count, categories, rating, distance, address1)\n",
    "                      VALUES (?, ?, ?, ?, ?, ?, ?);'''\n",
    "    values = (row['name'], row['is_closed'], row['review_count'], row['categories'], row['rating'], row['distance'], row['address1'])\n",
    "    execute_query(connection, insert_query, values)"
   ]
  },
  {
   "cell_type": "code",
   "execution_count": 32,
   "metadata": {},
   "outputs": [
    {
     "ename": "ProgrammingError",
     "evalue": "Cannot operate on a closed database.",
     "output_type": "error",
     "traceback": [
      "\u001b[1;31m---------------------------------------------------------------------------\u001b[0m",
      "\u001b[1;31mProgrammingError\u001b[0m                          Traceback (most recent call last)",
      "Cell \u001b[1;32mIn[32], line 6\u001b[0m\n\u001b[0;32m      2\u001b[0m df \u001b[39m=\u001b[39m pd\u001b[39m.\u001b[39mread_csv(\u001b[39m'\u001b[39m\u001b[39mC:\u001b[39m\u001b[39m\\\u001b[39m\u001b[39mLHL\u001b[39m\u001b[39m\\\u001b[39m\u001b[39mFinal-Project-Statistical-Modelling-with-Python/Citybikes.csv\u001b[39m\u001b[39m'\u001b[39m)   \n\u001b[0;32m      5\u001b[0m \u001b[39m# Create a cursor object\u001b[39;00m\n\u001b[1;32m----> 6\u001b[0m cursor \u001b[39m=\u001b[39m connection\u001b[39m.\u001b[39;49mcursor()\n\u001b[0;32m      8\u001b[0m \u001b[39m# Create the empty_slots table\u001b[39;00m\n\u001b[0;32m      9\u001b[0m create_table_query \u001b[39m=\u001b[39m \u001b[39m'''\u001b[39m\n\u001b[0;32m     10\u001b[0m \u001b[39mCREATE TABLE empty_slots (\u001b[39m\n\u001b[0;32m     11\u001b[0m \u001b[39m    id INTEGER PRIMARY KEY AUTOINCREMENT,\u001b[39m\n\u001b[1;32m   (...)\u001b[0m\n\u001b[0;32m     19\u001b[0m \u001b[39m);\u001b[39m\n\u001b[0;32m     20\u001b[0m \u001b[39m'''\u001b[39m\n",
      "\u001b[1;31mProgrammingError\u001b[0m: Cannot operate on a closed database."
     ]
    }
   ],
   "source": [
    "import pandas as pd\n",
    "df = pd.read_csv('C:\\LHL\\Final-Project-Statistical-Modelling-with-Python/Citybikes.csv')   \n",
    "\n",
    "\n",
    "# Create a cursor object\n",
    "cursor = connection.cursor()\n",
    "\n",
    "# Create the empty_slots table\n",
    "create_table_query = '''\n",
    "CREATE TABLE empty_slots (\n",
    "    id INTEGER PRIMARY KEY AUTOINCREMENT,\n",
    "    free_bike INTEGER,\n",
    "    latitude INTEGER,\n",
    "    longitude INTEGER,\n",
    "    name TEXT,\n",
    "    timestamp TEXT,\n",
    "    ebikes INTEGER,\n",
    "    slots INTEGER\n",
    ");\n",
    "'''\n",
    "\n",
    "# Execute the create table query\n",
    "cursor.execute(create_table_query)\n",
    "\n",
    "# Commit the changes to the database\n",
    "connection.commit()\n"
   ]
  },
  {
   "cell_type": "code",
   "execution_count": 31,
   "metadata": {},
   "outputs": [],
   "source": [
    "connection.close()"
   ]
  },
  {
   "attachments": {},
   "cell_type": "markdown",
   "metadata": {},
   "source": [
    "Look at the data before and after the join to validate your data."
   ]
  },
  {
   "cell_type": "code",
   "execution_count": null,
   "metadata": {},
   "outputs": [],
   "source": []
  }
 ],
 "metadata": {
  "kernelspec": {
   "display_name": "Python 3",
   "language": "python",
   "name": "python3"
  },
  "language_info": {
   "codemirror_mode": {
    "name": "ipython",
    "version": 3
   },
   "file_extension": ".py",
   "mimetype": "text/x-python",
   "name": "python",
   "nbconvert_exporter": "python",
   "pygments_lexer": "ipython3",
   "version": "3.9.16"
  }
 },
 "nbformat": 4,
 "nbformat_minor": 4
}
